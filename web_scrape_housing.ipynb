{
 "cells": [
  {
   "cell_type": "code",
   "execution_count": null,
   "metadata": {},
   "outputs": [],
   "source": [
    "from bs4 import BeautifulSoup\n",
    "import requests\n",
    "import pandas as pd\n",
    "import re\n",
    "import numpy as np\n",
    "\n",
    "root = 'https://www.privateproperty.co.za'\n",
    "website = f'{root}/for-sale/western-cape/cape-town/cape-town-city-bowl/oranjezicht/697'\n",
    "result = requests.get(website)\n",
    "content = result.text\n",
    "soup = BeautifulSoup(content, 'lxml')\n",
    "\n",
    "box =soup.find('div', class_='resultsItemsContainer')\n",
    "box.find_all('a', href=True)\n",
    "\n",
    "for link in box.find_all('a', href=True):\n",
    "    link['href']\n",
    "\n",
    "links = [link['href'] for link in box.find_all('a', href=True)]\n",
    "links = [item for item in links if item.count('developments') < 1]\n",
    "print(links)\n"
   ]
  },
  {
   "cell_type": "code",
   "execution_count": null,
   "metadata": {},
   "outputs": [],
   "source": [
    "titles=[] #Listing name on private property\n",
    "prices=[] #List to store price of each listing\n",
    "addresses=[] #List to store price of each listing\n",
    "features=[] #List of features for each listing\n",
    "\n",
    "pages = np.arange(1, 8, 1)\n",
    "#iterates through each page and saves data on each listing\n",
    "for page in pages:\n",
    "    page=\"https://www.privateproperty.co.za/for-sale/western-cape/cape-town/cape-town-city-bowl/oranjezicht/697?page=\" + str(page) \n",
    "    for link in links:\n",
    "        result = requests.get(f'{root}/{link}')\n",
    "        content = result.text\n",
    "        soup = BeautifulSoup(content, 'lxml')\n",
    "\n",
    "        price = soup.find('span', class_='detailsPrice').get_text()\n",
    "        prices.append(price)\n",
    "\n",
    "        box =soup.find('div', class_='titleContainer')\n",
    "        title = box.find('h1').get_text()\n",
    "        titles.append(title)\n",
    "\n",
    "        address =soup.find('div', class_='address')\n",
    "        if address == (None):\n",
    "            addresses.append('No Address')\n",
    "        else:\n",
    "            addresses.append(address.text)\n",
    "\n",
    "        feature = soup.find('div', class_='mainFeatures').get_text()\n",
    "        features.append(feature)\n",
    "        "
   ]
  },
  {
   "cell_type": "code",
   "execution_count": null,
   "metadata": {},
   "outputs": [],
   "source": [
    "df = pd.DataFrame({'Listing':titles,'Price':prices, 'Address':addresses, 'Features':features})\n",
    "print(df)"
   ]
  },
  {
   "cell_type": "code",
   "execution_count": null,
   "metadata": {},
   "outputs": [],
   "source": [
    "temp_df = df[\"Features\"].str.split(\"\\n\", n = 4, expand = True)\n",
    "Floor_space = temp_df[1]\n",
    "Floor_space = Floor_space.str.replace(r'\\D', '')\n",
    "temp_df[1] = Floor_space\n",
    "\n",
    "df_final = pd.concat([df, temp_df[1]], axis=1)\n",
    "df_final = df_final.drop(\"Features\", axis = 'columns')\n",
    "df_final = df_final.rename (columns = {1: 'Floor_space_m²'})\n",
    "print(df_final)\n",
    "\n",
    "df_final.to_csv(\"housing.csv\")\n"
   ]
  }
 ],
 "metadata": {
  "interpreter": {
   "hash": "60f5decb5d5f75cee078769f31acc91db8399f71b0160f2efe6eadfe23786558"
  },
  "kernelspec": {
   "display_name": "Python 3.9.7 64-bit",
   "name": "python3"
  },
  "language_info": {
   "codemirror_mode": {
    "name": "ipython",
    "version": 3
   },
   "file_extension": ".py",
   "mimetype": "text/x-python",
   "name": "python",
   "nbconvert_exporter": "python",
   "pygments_lexer": "ipython3",
   "version": "3.9.7"
  },
  "orig_nbformat": 4
 },
 "nbformat": 4,
 "nbformat_minor": 2
}
